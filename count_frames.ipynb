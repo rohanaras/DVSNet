{
 "cells": [
  {
   "cell_type": "code",
   "execution_count": 75,
   "metadata": {},
   "outputs": [],
   "source": [
    "from os import listdir\n",
    "from os.path import isfile, join\n",
    "import numpy as np\n",
    "from skimage.io import imread"
   ]
  },
  {
   "cell_type": "code",
   "execution_count": 47,
   "metadata": {},
   "outputs": [],
   "source": [
    "kaggle_dir = '/home/rohana/.kaggle/competitions/cvpr-2018-autonomous-driving/'\n",
    "train_video_lists = listdir(join(kaggle_dir, 'train_video_list'))\n",
    "test_video_lists = listdir(join(kaggle_dir, 'list_test'))"
   ]
  },
  {
   "cell_type": "code",
   "execution_count": 20,
   "metadata": {},
   "outputs": [
    {
     "data": {
      "text/plain": [
       "44"
      ]
     },
     "execution_count": 20,
     "metadata": {},
     "output_type": "execute_result"
    }
   ],
   "source": [
    "len(train_video_lists)"
   ]
  },
  {
   "cell_type": "code",
   "execution_count": 78,
   "metadata": {},
   "outputs": [],
   "source": [
    "actual_train_video_lists = {}\n",
    "for video_list in train_video_lists:\n",
    "    with open(join(kaggle_dir, 'train_video_list', video_list)) as f:\n",
    "        img_file = f.readline().split('\\t')[0].split('\\\\')[-1]\n",
    "        if isfile(join(kaggle_dir, 'train_color', img_file)):\n",
    "            for i, l in enumerate(f):\n",
    "                pass\n",
    "            actual_train_video_lists[video_list] = i + 2\n",
    "\n",
    "            "
   ]
  },
  {
   "cell_type": "code",
   "execution_count": 79,
   "metadata": {},
   "outputs": [
    {
     "name": "stdout",
     "output_type": "stream",
     "text": [
      "42\n",
      "933.8571428571429\n",
      "345.28225661724036\n"
     ]
    }
   ],
   "source": [
    "print(len(actual_train_video_lists))\n",
    "print(np.mean(list(actual_train_video_lists.values())))\n",
    "print(np.std(list(actual_train_video_lists.values())))"
   ]
  },
  {
   "cell_type": "code",
   "execution_count": 71,
   "metadata": {},
   "outputs": [],
   "source": [
    "actual_test_video_lists = {}\n",
    "for video_list in test_video_lists:\n",
    "    \n",
    "    video_list_map = 'md5_mapping_' + video_list\n",
    "    video_list_name = video_list.split('.')[0]\n",
    "\n",
    "    video_list_map = open(join(kaggle_dir, 'list_test_mapping/' + video_list_map), 'r')\n",
    "\n",
    "    test_file_dict = {}\n",
    "    for line in video_list_map:\n",
    "        value_key = line.strip().split('\\t')\n",
    "        test_file_dict[value_key[1]] = value_key[0]\n",
    "        \n",
    "    with open(join(kaggle_dir, 'list_test', video_list)) as f:\n",
    "        img_file = test_file_dict[f.readline().strip()] + '.jpg'\n",
    "        if isfile(join(kaggle_dir, 'test', img_file)):\n",
    "            for i, l in enumerate(f):\n",
    "                pass\n",
    "            actual_test_video_lists[video_list] = i + 2\n"
   ]
  },
  {
   "cell_type": "code",
   "execution_count": 77,
   "metadata": {},
   "outputs": [
    {
     "name": "stdout",
     "output_type": "stream",
     "text": [
      "12\n",
      "158.91666666666666\n",
      "156.46269967276191\n"
     ]
    }
   ],
   "source": [
    "print(len(actual_test_video_lists))\n",
    "print(np.mean(list(actual_test_video_lists.values())))\n",
    "print(np.std(list(actual_test_video_lists.values())))"
   ]
  },
  {
   "cell_type": "code",
   "execution_count": null,
   "metadata": {},
   "outputs": [],
   "source": []
  }
 ],
 "metadata": {
  "kernelspec": {
   "display_name": "Python 3",
   "language": "python",
   "name": "python3"
  },
  "language_info": {
   "codemirror_mode": {
    "name": "ipython",
    "version": 3
   },
   "file_extension": ".py",
   "mimetype": "text/x-python",
   "name": "python",
   "nbconvert_exporter": "python",
   "pygments_lexer": "ipython3",
   "version": "3.6.4"
  }
 },
 "nbformat": 4,
 "nbformat_minor": 2
}
